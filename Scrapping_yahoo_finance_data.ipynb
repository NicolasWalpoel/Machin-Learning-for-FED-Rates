{
 "cells": [
  {
   "cell_type": "code",
   "execution_count": 9,
   "id": "37766daa-e4a2-4f30-8d76-dc0e1d14c581",
   "metadata": {},
   "outputs": [
    {
     "name": "stderr",
     "output_type": "stream",
     "text": [
      "[*********************100%***********************]  1 of 1 completed"
     ]
    },
    {
     "name": "stdout",
     "output_type": "stream",
     "text": [
      "Fetched data for USGG13Week Index\n"
     ]
    },
    {
     "name": "stderr",
     "output_type": "stream",
     "text": [
      "\n"
     ]
    },
    {
     "data": {
      "text/html": [
       "<div>\n",
       "<style scoped>\n",
       "    .dataframe tbody tr th:only-of-type {\n",
       "        vertical-align: middle;\n",
       "    }\n",
       "\n",
       "    .dataframe tbody tr th {\n",
       "        vertical-align: top;\n",
       "    }\n",
       "\n",
       "    .dataframe thead th {\n",
       "        text-align: right;\n",
       "    }\n",
       "</style>\n",
       "<table border=\"1\" class=\"dataframe\">\n",
       "  <thead>\n",
       "    <tr style=\"text-align: right;\">\n",
       "      <th></th>\n",
       "      <th>USGG13Week Index</th>\n",
       "    </tr>\n",
       "    <tr>\n",
       "      <th>Date</th>\n",
       "      <th></th>\n",
       "    </tr>\n",
       "  </thead>\n",
       "  <tbody>\n",
       "    <tr>\n",
       "      <th>1980-01-02 00:00:00+00:00</th>\n",
       "      <td>12.17</td>\n",
       "    </tr>\n",
       "    <tr>\n",
       "      <th>1980-01-03 00:00:00+00:00</th>\n",
       "      <td>12.10</td>\n",
       "    </tr>\n",
       "    <tr>\n",
       "      <th>1980-01-04 00:00:00+00:00</th>\n",
       "      <td>12.10</td>\n",
       "    </tr>\n",
       "    <tr>\n",
       "      <th>1980-01-07 00:00:00+00:00</th>\n",
       "      <td>11.86</td>\n",
       "    </tr>\n",
       "    <tr>\n",
       "      <th>1980-01-08 00:00:00+00:00</th>\n",
       "      <td>11.78</td>\n",
       "    </tr>\n",
       "  </tbody>\n",
       "</table>\n",
       "</div>"
      ],
      "text/plain": [
       "                           USGG13Week Index\n",
       "Date                                       \n",
       "1980-01-02 00:00:00+00:00             12.17\n",
       "1980-01-03 00:00:00+00:00             12.10\n",
       "1980-01-04 00:00:00+00:00             12.10\n",
       "1980-01-07 00:00:00+00:00             11.86\n",
       "1980-01-08 00:00:00+00:00             11.78"
      ]
     },
     "execution_count": 9,
     "metadata": {},
     "output_type": "execute_result"
    }
   ],
   "source": [
    "import pandas as pd\n",
    "import pandas_datareader.data as web\n",
    "import matplotlib.pyplot as plt\n",
    "import yfinance as yf\n",
    "from datetime import datetime\n",
    "import numpy as np\n",
    "\n",
    "def fetch_yfinance_data():\n",
    "    tickers_yf = {\n",
    "        \"USGG13Week Index\": \"^IRX\",\n",
    "    }\n",
    "    data = {}\n",
    "    for name, ticker in tickers_yf.items():\n",
    "        try:\n",
    "            df = yf.download(ticker, start=\"1980-01-01\", end=datetime.today().strftime('%Y-%m-%d'), interval=\"1d\")\n",
    "            if df.empty:\n",
    "                df = yf.download(ticker, start=\"1980-01-01\", end=datetime.today().strftime('%Y-%m-%d'), interval=\"1y\")\n",
    "            if not df.empty:\n",
    "                data[name] = df['Close']\n",
    "                print(f\"Fetched data for {name}\")\n",
    "        except Exception as e:\n",
    "            print(f\"Failed to retrieve {name}: {e}\")\n",
    "    yf_data = pd.DataFrame(data)\n",
    "    yf_data.index = pd.to_datetime(yf_data.index)\n",
    "    return yf_data\n",
    "\n",
    "yf_data_linear_regression = fetch_yfinance_data()\n",
    "yf_data_linear_regression.head()"
   ]
  }
 ],
 "metadata": {
  "kernelspec": {
   "display_name": "Python 3 (ipykernel)",
   "language": "python",
   "name": "python3"
  },
  "language_info": {
   "codemirror_mode": {
    "name": "ipython",
    "version": 3
   },
   "file_extension": ".py",
   "mimetype": "text/x-python",
   "name": "python",
   "nbconvert_exporter": "python",
   "pygments_lexer": "ipython3",
   "version": "3.12.7"
  }
 },
 "nbformat": 4,
 "nbformat_minor": 5
}
